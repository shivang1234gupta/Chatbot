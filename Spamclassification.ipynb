{
  "nbformat": 4,
  "nbformat_minor": 0,
  "metadata": {
    "colab": {
      "name": "Spamclassification.ipynb",
      "provenance": []
    },
    "kernelspec": {
      "name": "python3",
      "display_name": "Python 3"
    }
  },
  "cells": [
    {
      "cell_type": "code",
      "metadata": {
        "id": "sb48E_cxSO0o",
        "colab_type": "code",
        "colab": {}
      },
      "source": [
        "import pandas as pd\n"
      ],
      "execution_count": null,
      "outputs": []
    },
    {
      "cell_type": "code",
      "metadata": {
        "id": "d2lRcF38SRv_",
        "colab_type": "code",
        "colab": {}
      },
      "source": [
        "messages=pd.read_csv('SMSSpamCollection',sep='\\t',names=['labels','messages'])"
      ],
      "execution_count": null,
      "outputs": []
    },
    {
      "cell_type": "code",
      "metadata": {
        "id": "eeTEd3yDSuPz",
        "colab_type": "code",
        "colab": {}
      },
      "source": [
        "messages.head()"
      ],
      "execution_count": null,
      "outputs": []
    },
    {
      "cell_type": "code",
      "metadata": {
        "id": "wB0GjNltSv2i",
        "colab_type": "code",
        "colab": {}
      },
      "source": [
        "import re\n",
        "import nltk\n",
        "nltk.download('stopwords')"
      ],
      "execution_count": null,
      "outputs": []
    },
    {
      "cell_type": "code",
      "metadata": {
        "id": "zobnacIzS9uu",
        "colab_type": "code",
        "colab": {}
      },
      "source": [
        "from nltk.corpus import stopwords\n",
        "from nltk.stem.porter import PorterStemmer\n",
        "ps=PorterStemmer()\n",
        "corpus=[]"
      ],
      "execution_count": null,
      "outputs": []
    },
    {
      "cell_type": "markdown",
      "metadata": {
        "id": "L-zx1OJTP1Wh",
        "colab_type": "text"
      },
      "source": [
        "Data Cleaning and preprocessing"
      ]
    },
    {
      "cell_type": "code",
      "metadata": {
        "id": "XdFr4-7tDYWZ",
        "colab_type": "code",
        "colab": {}
      },
      "source": [
        "for i in range(0,len(messages)):\n",
        "  review= re.sub('[^a-zA-Z]',' ',messages['messages'][i])\n",
        "  review=review.lower()\n",
        "  review=review.split()\n",
        "\n",
        "  review=[ps.stem(word) for word in review if not word in stopwords.words('english') ]\n",
        "  review=' '.join(review)\n",
        "  corpus.append(review)"
      ],
      "execution_count": null,
      "outputs": []
    },
    {
      "cell_type": "code",
      "metadata": {
        "id": "xW_hOLh0EU2a",
        "colab_type": "code",
        "colab": {}
      },
      "source": [
        "corpus"
      ],
      "execution_count": null,
      "outputs": []
    },
    {
      "cell_type": "markdown",
      "metadata": {
        "id": "BBJ5boBGP7w9",
        "colab_type": "text"
      },
      "source": [
        "Bag of Words model"
      ]
    },
    {
      "cell_type": "code",
      "metadata": {
        "id": "L8-M2CDhEWBV",
        "colab_type": "code",
        "colab": {}
      },
      "source": [
        "from sklearn.feature_extraction.text import CountVectorizer\n",
        "cv=CountVectorizer(max_features=2500) #features or words can be increased or decreased\n",
        "X=cv.fit_transform(corpus).toarray()"
      ],
      "execution_count": null,
      "outputs": []
    },
    {
      "cell_type": "code",
      "metadata": {
        "id": "3KKUS9hrQmNZ",
        "colab_type": "code",
        "colab": {}
      },
      "source": [
        "y=pd.get_dummies(messages['labels'])\n",
        "y=y.iloc[:,1].values  #performing since if message is not spam it is ham so we require only 1 column"
      ],
      "execution_count": null,
      "outputs": []
    },
    {
      "cell_type": "markdown",
      "metadata": {
        "id": "WgeSqR31Y1hS",
        "colab_type": "text"
      },
      "source": [
        "Train test split"
      ]
    },
    {
      "cell_type": "code",
      "metadata": {
        "id": "VDjNpNKZQxct",
        "colab_type": "code",
        "colab": {}
      },
      "source": [
        "from sklearn.model_selection import train_test_split\n",
        "X_train,X_test,y_train,y_test= train_test_split(X,y,test_size=.2,random_state=0)"
      ],
      "execution_count": null,
      "outputs": []
    },
    {
      "cell_type": "markdown",
      "metadata": {
        "id": "6a-NaUHAZbPq",
        "colab_type": "text"
      },
      "source": [
        "Training Model using Naivebayes classifier"
      ]
    },
    {
      "cell_type": "code",
      "metadata": {
        "id": "FfgfONVZZRr4",
        "colab_type": "code",
        "colab": {}
      },
      "source": [
        "from sklearn.naive_bayes import MultinomialNB\n",
        "spam_model=MultinomialNB().fit(X_train,y_train)"
      ],
      "execution_count": null,
      "outputs": []
    },
    {
      "cell_type": "code",
      "metadata": {
        "id": "5pUzI23EZueE",
        "colab_type": "code",
        "colab": {}
      },
      "source": [
        "y_pred=spam_model.predict(X_test)"
      ],
      "execution_count": null,
      "outputs": []
    },
    {
      "cell_type": "code",
      "metadata": {
        "id": "Tc38O5vmZ3M6",
        "colab_type": "code",
        "colab": {}
      },
      "source": [
        "from sklearn.metrics import confusion_matrix\n",
        "confusion_matrix(y_test,y_pred)"
      ],
      "execution_count": null,
      "outputs": []
    },
    {
      "cell_type": "code",
      "metadata": {
        "id": "GbQutUHsaJtl",
        "colab_type": "code",
        "colab": {}
      },
      "source": [
        "from sklearn.metrics import accuracy_score\n",
        "accuracy_score(y_test,y_pred)"
      ],
      "execution_count": null,
      "outputs": []
    },
    {
      "cell_type": "markdown",
      "metadata": {
        "id": "WPI8h_5UaaPp",
        "colab_type": "text"
      },
      "source": [
        "So we got 98% accuracy\n"
      ]
    },
    {
      "cell_type": "code",
      "metadata": {
        "id": "oQOS5-opaVfz",
        "colab_type": "code",
        "colab": {}
      },
      "source": [
        ""
      ],
      "execution_count": null,
      "outputs": []
    }
  ]
}